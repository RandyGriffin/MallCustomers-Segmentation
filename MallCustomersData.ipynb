{
 "cells": [
  {
   "cell_type": "code",
   "execution_count": 1,
   "id": "80a53521",
   "metadata": {},
   "outputs": [],
   "source": [
    "import pandas as pd\n",
    "import seaborn as sns \n",
    "import matplotlib.pyplot as plt\n",
    "from sklearn.cluster import KMeans\n",
    "import warnings\n",
    "warnings.filterwarnings('ignore')"
   ]
  },
  {
   "cell_type": "code",
   "execution_count": 2,
   "id": "63f931a4",
   "metadata": {},
   "outputs": [],
   "source": [
    "df = pd.read_csv(\"C:/Users/justs/Documents/Datasets/Mall_Customers.csv\")"
   ]
  },
  {
   "cell_type": "code",
   "execution_count": 3,
   "id": "b2692409",
   "metadata": {},
   "outputs": [
    {
     "data": {
      "text/html": [
       "<div>\n",
       "<style scoped>\n",
       "    .dataframe tbody tr th:only-of-type {\n",
       "        vertical-align: middle;\n",
       "    }\n",
       "\n",
       "    .dataframe tbody tr th {\n",
       "        vertical-align: top;\n",
       "    }\n",
       "\n",
       "    .dataframe thead th {\n",
       "        text-align: right;\n",
       "    }\n",
       "</style>\n",
       "<table border=\"1\" class=\"dataframe\">\n",
       "  <thead>\n",
       "    <tr style=\"text-align: right;\">\n",
       "      <th></th>\n",
       "      <th>CustomerID</th>\n",
       "      <th>Gender</th>\n",
       "      <th>Age</th>\n",
       "      <th>Annual Income (k$)</th>\n",
       "      <th>Spending Score (1-100)</th>\n",
       "    </tr>\n",
       "  </thead>\n",
       "  <tbody>\n",
       "    <tr>\n",
       "      <th>0</th>\n",
       "      <td>1</td>\n",
       "      <td>Male</td>\n",
       "      <td>19</td>\n",
       "      <td>15</td>\n",
       "      <td>39</td>\n",
       "    </tr>\n",
       "    <tr>\n",
       "      <th>1</th>\n",
       "      <td>2</td>\n",
       "      <td>Male</td>\n",
       "      <td>21</td>\n",
       "      <td>15</td>\n",
       "      <td>81</td>\n",
       "    </tr>\n",
       "    <tr>\n",
       "      <th>2</th>\n",
       "      <td>3</td>\n",
       "      <td>Female</td>\n",
       "      <td>20</td>\n",
       "      <td>16</td>\n",
       "      <td>6</td>\n",
       "    </tr>\n",
       "    <tr>\n",
       "      <th>3</th>\n",
       "      <td>4</td>\n",
       "      <td>Female</td>\n",
       "      <td>23</td>\n",
       "      <td>16</td>\n",
       "      <td>77</td>\n",
       "    </tr>\n",
       "    <tr>\n",
       "      <th>4</th>\n",
       "      <td>5</td>\n",
       "      <td>Female</td>\n",
       "      <td>31</td>\n",
       "      <td>17</td>\n",
       "      <td>40</td>\n",
       "    </tr>\n",
       "  </tbody>\n",
       "</table>\n",
       "</div>"
      ],
      "text/plain": [
       "   CustomerID  Gender  Age  Annual Income (k$)  Spending Score (1-100)\n",
       "0           1    Male   19                  15                      39\n",
       "1           2    Male   21                  15                      81\n",
       "2           3  Female   20                  16                       6\n",
       "3           4  Female   23                  16                      77\n",
       "4           5  Female   31                  17                      40"
      ]
     },
     "execution_count": 3,
     "metadata": {},
     "output_type": "execute_result"
    }
   ],
   "source": [
    "df.head()"
   ]
  },
  {
   "cell_type": "markdown",
   "id": "e8dfe3f7",
   "metadata": {},
   "source": [
    "# Univariate Analysis"
   ]
  },
  {
   "cell_type": "code",
   "execution_count": 4,
   "id": "8f37a686",
   "metadata": {},
   "outputs": [
    {
     "data": {
      "text/html": [
       "<div>\n",
       "<style scoped>\n",
       "    .dataframe tbody tr th:only-of-type {\n",
       "        vertical-align: middle;\n",
       "    }\n",
       "\n",
       "    .dataframe tbody tr th {\n",
       "        vertical-align: top;\n",
       "    }\n",
       "\n",
       "    .dataframe thead th {\n",
       "        text-align: right;\n",
       "    }\n",
       "</style>\n",
       "<table border=\"1\" class=\"dataframe\">\n",
       "  <thead>\n",
       "    <tr style=\"text-align: right;\">\n",
       "      <th></th>\n",
       "      <th>CustomerID</th>\n",
       "      <th>Age</th>\n",
       "      <th>Annual Income (k$)</th>\n",
       "      <th>Spending Score (1-100)</th>\n",
       "    </tr>\n",
       "  </thead>\n",
       "  <tbody>\n",
       "    <tr>\n",
       "      <th>count</th>\n",
       "      <td>200.000000</td>\n",
       "      <td>200.000000</td>\n",
       "      <td>200.000000</td>\n",
       "      <td>200.000000</td>\n",
       "    </tr>\n",
       "    <tr>\n",
       "      <th>mean</th>\n",
       "      <td>100.500000</td>\n",
       "      <td>38.850000</td>\n",
       "      <td>60.560000</td>\n",
       "      <td>50.200000</td>\n",
       "    </tr>\n",
       "    <tr>\n",
       "      <th>std</th>\n",
       "      <td>57.879185</td>\n",
       "      <td>13.969007</td>\n",
       "      <td>26.264721</td>\n",
       "      <td>25.823522</td>\n",
       "    </tr>\n",
       "    <tr>\n",
       "      <th>min</th>\n",
       "      <td>1.000000</td>\n",
       "      <td>18.000000</td>\n",
       "      <td>15.000000</td>\n",
       "      <td>1.000000</td>\n",
       "    </tr>\n",
       "    <tr>\n",
       "      <th>25%</th>\n",
       "      <td>50.750000</td>\n",
       "      <td>28.750000</td>\n",
       "      <td>41.500000</td>\n",
       "      <td>34.750000</td>\n",
       "    </tr>\n",
       "    <tr>\n",
       "      <th>50%</th>\n",
       "      <td>100.500000</td>\n",
       "      <td>36.000000</td>\n",
       "      <td>61.500000</td>\n",
       "      <td>50.000000</td>\n",
       "    </tr>\n",
       "    <tr>\n",
       "      <th>75%</th>\n",
       "      <td>150.250000</td>\n",
       "      <td>49.000000</td>\n",
       "      <td>78.000000</td>\n",
       "      <td>73.000000</td>\n",
       "    </tr>\n",
       "    <tr>\n",
       "      <th>max</th>\n",
       "      <td>200.000000</td>\n",
       "      <td>70.000000</td>\n",
       "      <td>137.000000</td>\n",
       "      <td>99.000000</td>\n",
       "    </tr>\n",
       "  </tbody>\n",
       "</table>\n",
       "</div>"
      ],
      "text/plain": [
       "       CustomerID         Age  Annual Income (k$)  Spending Score (1-100)\n",
       "count  200.000000  200.000000          200.000000              200.000000\n",
       "mean   100.500000   38.850000           60.560000               50.200000\n",
       "std     57.879185   13.969007           26.264721               25.823522\n",
       "min      1.000000   18.000000           15.000000                1.000000\n",
       "25%     50.750000   28.750000           41.500000               34.750000\n",
       "50%    100.500000   36.000000           61.500000               50.000000\n",
       "75%    150.250000   49.000000           78.000000               73.000000\n",
       "max    200.000000   70.000000          137.000000               99.000000"
      ]
     },
     "execution_count": 4,
     "metadata": {},
     "output_type": "execute_result"
    }
   ],
   "source": [
    "df.describe()"
   ]
  },
  {
   "cell_type": "code",
   "execution_count": 6,
   "id": "d5526e10",
   "metadata": {},
   "outputs": [
    {
     "data": {
      "image/png": "[encoded data removed]",
      "text/plain": [
       "<Figure size 432x288 with 1 Axes>"
      ]
     },
     "metadata": {
      "needs_background": "light"
     },
     "output_type": "display_data"
    }
   ],
   "source": [
    "sns.distplot(df['Annual Income (k$)']);"
   ]
  },
  {
   "cell_type": "code",
   "execution_count": 7,
   "id": "fafbaa27",
   "metadata": {},
   "outputs": [
    {
     "data": {
      "text/plain": [
       "Index(['CustomerID', 'Gender', 'Age', 'Annual Income (k$)',\n",
       "       'Spending Score (1-100)'],\n",
       "      dtype='object')"
      ]
     },
     "execution_count": 7,
     "metadata": {},
     "output_type": "execute_result"
    }
   ],
   "source": [
    "df.columns"
   ]
  },
  {
   "cell_type": "code",
   "execution_count": 14,
   "id": "cf138e06",
   "metadata": {},
   "outputs": [
    {
     "data": {
      "image/png": "[encoded data removed]",
      "text/plain": [
       "<Figure size 432x288 with 1 Axes>"
      ]
     },
     "metadata": {
      "needs_background": "light"
     },
     "output_type": "display_data"
    },
    {
     "data": {
      "image/png": "[encoded data removed]",
      "text/plain": [
       "<Figure size 432x288 with 1 Axes>"
      ]
     },
     "metadata": {
      "needs_background": "light"
     },
     "output_type": "display_data"
    },
    {
     "data": {
      "image/png": "[encoded data removed]",
      "text/plain": [
       "<Figure size 432x288 with 1 Axes>"
      ]
     },
     "metadata": {
      "needs_background": "light"
     },
     "output_type": "display_data"
    }
   ],
   "source": [
    "columns = ['Age', 'Annual Income (k$)','Spending Score (1-100)']\n",
    "for i in columns:\n",
    "    plt.figure()\n",
    "    sns.kdeplot(df[i],shade=True,hue=df['Gender'])"
   ]
  },
  {
   "cell_type": "code",
   "execution_count": 11,
   "id": "c27c1085",
   "metadata": {},
   "outputs": [
    {
     "data": {
      "image/png": "[encoded data removed]",
      "text/plain": [
       "<Figure size 432x288 with 1 Axes>"
      ]
     },
     "metadata": {
      "needs_background": "light"
     },
     "output_type": "display_data"
    }
   ],
   "source": [
    "sns.kdeplot(df['Annual Income (k$)'],shade=True,hue=df['Gender']);"
   ]
  },
  {
   "cell_type": "code",
   "execution_count": 15,
   "id": "0ce4982f",
   "metadata": {},
   "outputs": [
    {
     "data": {
      "image/png": "[encoded data removed]",
      "text/plain": [
       "<Figure size 432x288 with 1 Axes>"
      ]
     },
     "metadata": {
      "needs_background": "light"
     },
     "output_type": "display_data"
    },
    {
     "data": {
      "image/png": "[encoded data removed]",
      "text/plain": [
       "<Figure size 432x288 with 1 Axes>"
      ]
     },
     "metadata": {
      "needs_background": "light"
     },
     "output_type": "display_data"
    },
    {
     "data": {
      "image/png": "[encoded data removed]",
      "text/plain": [
       "<Figure size 432x288 with 1 Axes>"
      ]
     },
     "metadata": {
      "needs_background": "light"
     },
     "output_type": "display_data"
    }
   ],
   "source": [
    "columns = ['Age', 'Annual Income (k$)','Spending Score (1-100)']\n",
    "for i in columns:\n",
    "    plt.figure()\n",
    "    sns.boxplot(data=df,x='Gender',y=df[i])"
   ]
  },
  {
   "cell_type": "code",
   "execution_count": 17,
   "id": "c42b7eb2",
   "metadata": {},
   "outputs": [
    {
     "data": {
      "text/plain": [
       "Female    0.56\n",
       "Male      0.44\n",
       "Name: Gender, dtype: float64"
      ]
     },
     "execution_count": 17,
     "metadata": {},
     "output_type": "execute_result"
    }
   ],
   "source": [
    "df['Gender'].value_counts(normalize=True)"
   ]
  },
  {
   "cell_type": "markdown",
   "id": "0f1ab6c0",
   "metadata": {},
   "source": [
    "# Bivariate Analysis"
   ]
  },
  {
   "cell_type": "code",
   "execution_count": 19,
   "id": "c557eaa3",
   "metadata": {},
   "outputs": [
    {
     "data": {
      "text/plain": [
       "<AxesSubplot:xlabel='Annual Income (k$)', ylabel='Spending Score (1-100)'>"
      ]
     },
     "execution_count": 19,
     "metadata": {},
     "output_type": "execute_result"
    },
    {
     "data": {
      "image/png": "[encoded data removed]",
      "text/plain": [
       "<Figure size 432x288 with 1 Axes>"
      ]
     },
     "metadata": {
      "needs_background": "light"
     },
     "output_type": "display_data"
    }
   ],
   "source": [
    "sns.scatterplot(data=df, x='Annual Income (k$)',y='Spending Score (1-100)')"
   ]
  },
  {
   "cell_type": "code",
   "execution_count": 21,
   "id": "166ead40",
   "metadata": {},
   "outputs": [
    {
     "data": {
      "text/plain": [
       "<seaborn.axisgrid.PairGrid at 0x237d77e85e0>"
      ]
     },
     "execution_count": 21,
     "metadata": {},
     "output_type": "execute_result"
    },
    {
     "data": {
      "image/png": "[encoded data removed]",
      "text/plain": [
       "<Figure size 540x540 with 12 Axes>"
      ]
     },
     "metadata": {
      "needs_background": "light"
     },
     "output_type": "display_data"
    }
   ],
   "source": [
    "#df=df.drop('CustomerID', axis=1)\n",
    "sns.pairplot(df)"
   ]
  },
  {
   "cell_type": "code",
   "execution_count": 22,
   "id": "f69c327d",
   "metadata": {},
   "outputs": [
    {
     "data": {
      "text/html": [
       "<div>\n",
       "<style scoped>\n",
       "    .dataframe tbody tr th:only-of-type {\n",
       "        vertical-align: middle;\n",
       "    }\n",
       "\n",
       "    .dataframe tbody tr th {\n",
       "        vertical-align: top;\n",
       "    }\n",
       "\n",
       "    .dataframe thead th {\n",
       "        text-align: right;\n",
       "    }\n",
       "</style>\n",
       "<table border=\"1\" class=\"dataframe\">\n",
       "  <thead>\n",
       "    <tr style=\"text-align: right;\">\n",
       "      <th></th>\n",
       "      <th>Age</th>\n",
       "      <th>Annual Income (k$)</th>\n",
       "      <th>Spending Score (1-100)</th>\n",
       "    </tr>\n",
       "    <tr>\n",
       "      <th>Gender</th>\n",
       "      <th></th>\n",
       "      <th></th>\n",
       "      <th></th>\n",
       "    </tr>\n",
       "  </thead>\n",
       "  <tbody>\n",
       "    <tr>\n",
       "      <th>Female</th>\n",
       "      <td>38.098214</td>\n",
       "      <td>59.250000</td>\n",
       "      <td>51.526786</td>\n",
       "    </tr>\n",
       "    <tr>\n",
       "      <th>Male</th>\n",
       "      <td>39.806818</td>\n",
       "      <td>62.227273</td>\n",
       "      <td>48.511364</td>\n",
       "    </tr>\n",
       "  </tbody>\n",
       "</table>\n",
       "</div>"
      ],
      "text/plain": [
       "              Age  Annual Income (k$)  Spending Score (1-100)\n",
       "Gender                                                       \n",
       "Female  38.098214           59.250000               51.526786\n",
       "Male    39.806818           62.227273               48.511364"
      ]
     },
     "execution_count": 22,
     "metadata": {},
     "output_type": "execute_result"
    }
   ],
   "source": [
    "df.groupby(['Gender'])['Age', 'Annual Income (k$)',\n",
    "       'Spending Score (1-100)'].mean()"
   ]
  },
  {
   "cell_type": "code",
   "execution_count": 23,
   "id": "4dd08e7a",
   "metadata": {},
   "outputs": [
    {
     "data": {
      "text/html": [
       "<div>\n",
       "<style scoped>\n",
       "    .dataframe tbody tr th:only-of-type {\n",
       "        vertical-align: middle;\n",
       "    }\n",
       "\n",
       "    .dataframe tbody tr th {\n",
       "        vertical-align: top;\n",
       "    }\n",
       "\n",
       "    .dataframe thead th {\n",
       "        text-align: right;\n",
       "    }\n",
       "</style>\n",
       "<table border=\"1\" class=\"dataframe\">\n",
       "  <thead>\n",
       "    <tr style=\"text-align: right;\">\n",
       "      <th></th>\n",
       "      <th>Age</th>\n",
       "      <th>Annual Income (k$)</th>\n",
       "      <th>Spending Score (1-100)</th>\n",
       "    </tr>\n",
       "  </thead>\n",
       "  <tbody>\n",
       "    <tr>\n",
       "      <th>Age</th>\n",
       "      <td>1.000000</td>\n",
       "      <td>-0.012398</td>\n",
       "      <td>-0.327227</td>\n",
       "    </tr>\n",
       "    <tr>\n",
       "      <th>Annual Income (k$)</th>\n",
       "      <td>-0.012398</td>\n",
       "      <td>1.000000</td>\n",
       "      <td>0.009903</td>\n",
       "    </tr>\n",
       "    <tr>\n",
       "      <th>Spending Score (1-100)</th>\n",
       "      <td>-0.327227</td>\n",
       "      <td>0.009903</td>\n",
       "      <td>1.000000</td>\n",
       "    </tr>\n",
       "  </tbody>\n",
       "</table>\n",
       "</div>"
      ],
      "text/plain": [
       "                             Age  Annual Income (k$)  Spending Score (1-100)\n",
       "Age                     1.000000           -0.012398               -0.327227\n",
       "Annual Income (k$)     -0.012398            1.000000                0.009903\n",
       "Spending Score (1-100) -0.327227            0.009903                1.000000"
      ]
     },
     "execution_count": 23,
     "metadata": {},
     "output_type": "execute_result"
    }
   ],
   "source": [
    "df.corr()"
   ]
  },
  {
   "cell_type": "code",
   "execution_count": 24,
   "id": "0cfcddc6",
   "metadata": {},
   "outputs": [
    {
     "data": {
      "text/plain": [
       "<AxesSubplot:>"
      ]
     },
     "execution_count": 24,
     "metadata": {},
     "output_type": "execute_result"
    },
    {
     "data": {
      "image/png": "[encoded data removed]",
      "text/plain": [
       "<Figure size 432x288 with 2 Axes>"
      ]
     },
     "metadata": {
      "needs_background": "light"
     },
     "output_type": "display_data"
    }
   ],
   "source": [
    "sns.heatmap(df.corr(),annot=True,cmap='coolwarm')"
   ]
  },
  {
   "cell_type": "markdown",
   "id": "d0975fb7",
   "metadata": {},
   "source": [
    "# Clustering - Univariate, Bivariate, Multivariate"
   ]
  },
  {
   "cell_type": "code",
   "execution_count": 40,
   "id": "b81598d7",
   "metadata": {},
   "outputs": [],
   "source": [
    "clustering1 = KMeans(n_clusters=3)"
   ]
  },
  {
   "cell_type": "code",
   "execution_count": 41,
   "id": "160beee2",
   "metadata": {},
   "outputs": [
    {
     "data": {
      "text/plain": [
       "KMeans(n_clusters=3)"
      ]
     },
     "execution_count": 41,
     "metadata": {},
     "output_type": "execute_result"
    }
   ],
   "source": [
    "clustering1.fit(df[['Annual Income (k$)']])"
   ]
  },
  {
   "cell_type": "code",
   "execution_count": 42,
   "id": "700bf465",
   "metadata": {},
   "outputs": [
    {
     "data": {
      "text/plain": [
       "array([2, 2, 2, 2, 2, 2, 2, 2, 2, 2, 2, 2, 2, 2, 2, 2, 2, 2, 2, 2, 2, 2,\n",
       "       2, 2, 2, 2, 2, 2, 2, 2, 2, 2, 2, 2, 2, 2, 2, 2, 2, 2, 2, 2, 2, 2,\n",
       "       2, 2, 2, 2, 2, 2, 2, 2, 2, 2, 2, 2, 2, 2, 2, 2, 2, 2, 2, 2, 2, 2,\n",
       "       2, 2, 2, 2, 2, 2, 0, 0, 0, 0, 0, 0, 0, 0, 0, 0, 0, 0, 0, 0, 0, 0,\n",
       "       0, 0, 0, 0, 0, 0, 0, 0, 0, 0, 0, 0, 0, 0, 0, 0, 0, 0, 0, 0, 0, 0,\n",
       "       0, 0, 0, 0, 0, 0, 0, 0, 0, 0, 0, 0, 0, 0, 0, 0, 0, 0, 0, 0, 0, 0,\n",
       "       0, 0, 0, 0, 0, 0, 0, 0, 0, 0, 0, 0, 0, 0, 0, 0, 0, 0, 0, 0, 0, 0,\n",
       "       0, 0, 0, 0, 0, 0, 0, 0, 0, 0, 1, 1, 1, 1, 1, 1, 1, 1, 1, 1, 1, 1,\n",
       "       1, 1, 1, 1, 1, 1, 1, 1, 1, 1, 1, 1, 1, 1, 1, 1, 1, 1, 1, 1, 1, 1,\n",
       "       1, 1])"
      ]
     },
     "execution_count": 42,
     "metadata": {},
     "output_type": "execute_result"
    }
   ],
   "source": [
    "clustering1.labels_"
   ]
  },
  {
   "cell_type": "code",
   "execution_count": 43,
   "id": "49178261",
   "metadata": {},
   "outputs": [
    {
     "data": {
      "text/html": [
       "<div>\n",
       "<style scoped>\n",
       "    .dataframe tbody tr th:only-of-type {\n",
       "        vertical-align: middle;\n",
       "    }\n",
       "\n",
       "    .dataframe tbody tr th {\n",
       "        vertical-align: top;\n",
       "    }\n",
       "\n",
       "    .dataframe thead th {\n",
       "        text-align: right;\n",
       "    }\n",
       "</style>\n",
       "<table border=\"1\" class=\"dataframe\">\n",
       "  <thead>\n",
       "    <tr style=\"text-align: right;\">\n",
       "      <th></th>\n",
       "      <th>Gender</th>\n",
       "      <th>Age</th>\n",
       "      <th>Annual Income (k$)</th>\n",
       "      <th>Spending Score (1-100)</th>\n",
       "      <th>Income Cluster</th>\n",
       "    </tr>\n",
       "  </thead>\n",
       "  <tbody>\n",
       "    <tr>\n",
       "      <th>0</th>\n",
       "      <td>Male</td>\n",
       "      <td>19</td>\n",
       "      <td>15</td>\n",
       "      <td>39</td>\n",
       "      <td>2</td>\n",
       "    </tr>\n",
       "    <tr>\n",
       "      <th>1</th>\n",
       "      <td>Male</td>\n",
       "      <td>21</td>\n",
       "      <td>15</td>\n",
       "      <td>81</td>\n",
       "      <td>2</td>\n",
       "    </tr>\n",
       "    <tr>\n",
       "      <th>2</th>\n",
       "      <td>Female</td>\n",
       "      <td>20</td>\n",
       "      <td>16</td>\n",
       "      <td>6</td>\n",
       "      <td>2</td>\n",
       "    </tr>\n",
       "    <tr>\n",
       "      <th>3</th>\n",
       "      <td>Female</td>\n",
       "      <td>23</td>\n",
       "      <td>16</td>\n",
       "      <td>77</td>\n",
       "      <td>2</td>\n",
       "    </tr>\n",
       "    <tr>\n",
       "      <th>4</th>\n",
       "      <td>Female</td>\n",
       "      <td>31</td>\n",
       "      <td>17</td>\n",
       "      <td>40</td>\n",
       "      <td>2</td>\n",
       "    </tr>\n",
       "  </tbody>\n",
       "</table>\n",
       "</div>"
      ],
      "text/plain": [
       "   Gender  Age  Annual Income (k$)  Spending Score (1-100)  Income Cluster\n",
       "0    Male   19                  15                      39               2\n",
       "1    Male   21                  15                      81               2\n",
       "2  Female   20                  16                       6               2\n",
       "3  Female   23                  16                      77               2\n",
       "4  Female   31                  17                      40               2"
      ]
     },
     "execution_count": 43,
     "metadata": {},
     "output_type": "execute_result"
    }
   ],
   "source": [
    "df['Income Cluster'] = clustering1.labels_\n",
    "df.head()"
   ]
  },
  {
   "cell_type": "code",
   "execution_count": 44,
   "id": "4b83359c",
   "metadata": {},
   "outputs": [
    {
     "data": {
      "text/plain": [
       "0    92\n",
       "2    72\n",
       "1    36\n",
       "Name: Income Cluster, dtype: int64"
      ]
     },
     "execution_count": 44,
     "metadata": {},
     "output_type": "execute_result"
    }
   ],
   "source": [
    "df['Income Cluster'].value_counts()"
   ]
  },
  {
   "cell_type": "code",
   "execution_count": 45,
   "id": "b880df51",
   "metadata": {},
   "outputs": [
    {
     "data": {
      "text/plain": [
       "23528.15217391304"
      ]
     },
     "execution_count": 45,
     "metadata": {},
     "output_type": "execute_result"
    }
   ],
   "source": [
    "clustering1.inertia_"
   ]
  },
  {
   "cell_type": "code",
   "execution_count": 46,
   "id": "2bb3b31e",
   "metadata": {},
   "outputs": [],
   "source": [
    "intertia_scores=[]\n",
    "for i in range(1,11):\n",
    "    kmeans=KMeans(n_clusters=i)\n",
    "    kmeans.fit(df[['Annual Income (k$)']])\n",
    "    intertia_scores.append(kmeans.inertia_)"
   ]
  },
  {
   "cell_type": "code",
   "execution_count": 47,
   "id": "d151b5fd",
   "metadata": {},
   "outputs": [
    {
     "data": {
      "text/plain": [
       "[137277.27999999997,\n",
       " 48660.88888888889,\n",
       " 23517.330930930933,\n",
       " 13278.112713472485,\n",
       " 8481.496190476191,\n",
       " 5050.904761904762,\n",
       " 3941.4163614163617,\n",
       " 2857.4416971916976,\n",
       " 2217.6406204906207,\n",
       " 1746.4707792207791]"
      ]
     },
     "execution_count": 47,
     "metadata": {},
     "output_type": "execute_result"
    }
   ],
   "source": [
    "intertia_scores"
   ]
  },
  {
   "cell_type": "code",
   "execution_count": 48,
   "id": "a7f00e90",
   "metadata": {},
   "outputs": [
    {
     "data": {
      "text/plain": [
       "[<matplotlib.lines.Line2D at 0x237d909deb0>]"
      ]
     },
     "execution_count": 48,
     "metadata": {},
     "output_type": "execute_result"
    },
    {
     "data": {
      "image/png": "[encoded data removed]",
      "text/plain": [
       "<Figure size 432x288 with 1 Axes>"
      ]
     },
     "metadata": {
      "needs_background": "light"
     },
     "output_type": "display_data"
    }
   ],
   "source": [
    "plt.plot(range(1,11),intertia_scores)  #elbow method"
   ]
  },
  {
   "cell_type": "code",
   "execution_count": 49,
   "id": "b0b04a7d",
   "metadata": {},
   "outputs": [
    {
     "data": {
      "text/plain": [
       "Index(['Gender', 'Age', 'Annual Income (k$)', 'Spending Score (1-100)',\n",
       "       'Income Cluster'],\n",
       "      dtype='object')"
      ]
     },
     "execution_count": 49,
     "metadata": {},
     "output_type": "execute_result"
    }
   ],
   "source": [
    "df.columns"
   ]
  },
  {
   "cell_type": "code",
   "execution_count": 50,
   "id": "957c9a4c",
   "metadata": {},
   "outputs": [
    {
     "data": {
      "text/html": [
       "<div>\n",
       "<style scoped>\n",
       "    .dataframe tbody tr th:only-of-type {\n",
       "        vertical-align: middle;\n",
       "    }\n",
       "\n",
       "    .dataframe tbody tr th {\n",
       "        vertical-align: top;\n",
       "    }\n",
       "\n",
       "    .dataframe thead th {\n",
       "        text-align: right;\n",
       "    }\n",
       "</style>\n",
       "<table border=\"1\" class=\"dataframe\">\n",
       "  <thead>\n",
       "    <tr style=\"text-align: right;\">\n",
       "      <th></th>\n",
       "      <th>Age</th>\n",
       "      <th>Annual Income (k$)</th>\n",
       "      <th>Spending Score (1-100)</th>\n",
       "    </tr>\n",
       "    <tr>\n",
       "      <th>Income Cluster</th>\n",
       "      <th></th>\n",
       "      <th></th>\n",
       "      <th></th>\n",
       "    </tr>\n",
       "  </thead>\n",
       "  <tbody>\n",
       "    <tr>\n",
       "      <th>0</th>\n",
       "      <td>39.184783</td>\n",
       "      <td>66.717391</td>\n",
       "      <td>50.054348</td>\n",
       "    </tr>\n",
       "    <tr>\n",
       "      <th>1</th>\n",
       "      <td>37.833333</td>\n",
       "      <td>99.888889</td>\n",
       "      <td>50.638889</td>\n",
       "    </tr>\n",
       "    <tr>\n",
       "      <th>2</th>\n",
       "      <td>38.930556</td>\n",
       "      <td>33.027778</td>\n",
       "      <td>50.166667</td>\n",
       "    </tr>\n",
       "  </tbody>\n",
       "</table>\n",
       "</div>"
      ],
      "text/plain": [
       "                      Age  Annual Income (k$)  Spending Score (1-100)\n",
       "Income Cluster                                                       \n",
       "0               39.184783           66.717391               50.054348\n",
       "1               37.833333           99.888889               50.638889\n",
       "2               38.930556           33.027778               50.166667"
      ]
     },
     "execution_count": 50,
     "metadata": {},
     "output_type": "execute_result"
    }
   ],
   "source": [
    "df.groupby('Income Cluster')['Age', 'Annual Income (k$)', 'Spending Score (1-100)'].mean()"
   ]
  },
  {
   "cell_type": "code",
   "execution_count": 51,
   "id": "6f18e435",
   "metadata": {},
   "outputs": [],
   "source": [
    "#Bivariate Clustering "
   ]
  },
  {
   "cell_type": "code",
   "execution_count": 54,
   "id": "2405b491",
   "metadata": {},
   "outputs": [
    {
     "data": {
      "text/html": [
       "<div>\n",
       "<style scoped>\n",
       "    .dataframe tbody tr th:only-of-type {\n",
       "        vertical-align: middle;\n",
       "    }\n",
       "\n",
       "    .dataframe tbody tr th {\n",
       "        vertical-align: top;\n",
       "    }\n",
       "\n",
       "    .dataframe thead th {\n",
       "        text-align: right;\n",
       "    }\n",
       "</style>\n",
       "<table border=\"1\" class=\"dataframe\">\n",
       "  <thead>\n",
       "    <tr style=\"text-align: right;\">\n",
       "      <th></th>\n",
       "      <th>Gender</th>\n",
       "      <th>Age</th>\n",
       "      <th>Annual Income (k$)</th>\n",
       "      <th>Spending Score (1-100)</th>\n",
       "      <th>Income Cluster</th>\n",
       "      <th>Spending and Income Cluster</th>\n",
       "    </tr>\n",
       "  </thead>\n",
       "  <tbody>\n",
       "    <tr>\n",
       "      <th>0</th>\n",
       "      <td>Male</td>\n",
       "      <td>19</td>\n",
       "      <td>15</td>\n",
       "      <td>39</td>\n",
       "      <td>2</td>\n",
       "      <td>4</td>\n",
       "    </tr>\n",
       "    <tr>\n",
       "      <th>1</th>\n",
       "      <td>Male</td>\n",
       "      <td>21</td>\n",
       "      <td>15</td>\n",
       "      <td>81</td>\n",
       "      <td>2</td>\n",
       "      <td>1</td>\n",
       "    </tr>\n",
       "    <tr>\n",
       "      <th>2</th>\n",
       "      <td>Female</td>\n",
       "      <td>20</td>\n",
       "      <td>16</td>\n",
       "      <td>6</td>\n",
       "      <td>2</td>\n",
       "      <td>4</td>\n",
       "    </tr>\n",
       "    <tr>\n",
       "      <th>3</th>\n",
       "      <td>Female</td>\n",
       "      <td>23</td>\n",
       "      <td>16</td>\n",
       "      <td>77</td>\n",
       "      <td>2</td>\n",
       "      <td>1</td>\n",
       "    </tr>\n",
       "    <tr>\n",
       "      <th>4</th>\n",
       "      <td>Female</td>\n",
       "      <td>31</td>\n",
       "      <td>17</td>\n",
       "      <td>40</td>\n",
       "      <td>2</td>\n",
       "      <td>4</td>\n",
       "    </tr>\n",
       "  </tbody>\n",
       "</table>\n",
       "</div>"
      ],
      "text/plain": [
       "   Gender  Age  Annual Income (k$)  Spending Score (1-100)  Income Cluster  \\\n",
       "0    Male   19                  15                      39               2   \n",
       "1    Male   21                  15                      81               2   \n",
       "2  Female   20                  16                       6               2   \n",
       "3  Female   23                  16                      77               2   \n",
       "4  Female   31                  17                      40               2   \n",
       "\n",
       "   Spending and Income Cluster  \n",
       "0                            4  \n",
       "1                            1  \n",
       "2                            4  \n",
       "3                            1  \n",
       "4                            4  "
      ]
     },
     "execution_count": 54,
     "metadata": {},
     "output_type": "execute_result"
    }
   ],
   "source": [
    "clustering2 = KMeans(n_clusters=5)\n",
    "clustering2.fit(df[['Annual Income (k$)', 'Spending Score (1-100)']])\n",
    "df['Spending and Income Cluster'] = clustering2.labels_\n",
    "df.head()"
   ]
  },
  {
   "cell_type": "code",
   "execution_count": 55,
   "id": "3de2c490",
   "metadata": {},
   "outputs": [
    {
     "data": {
      "text/plain": [
       "[<matplotlib.lines.Line2D at 0x237d9377130>]"
      ]
     },
     "execution_count": 55,
     "metadata": {},
     "output_type": "execute_result"
    },
    {
     "data": {
      "image/png": "[encoded data removed]",
      "text/plain": [
       "<Figure size 432x288 with 1 Axes>"
      ]
     },
     "metadata": {
      "needs_background": "light"
     },
     "output_type": "display_data"
    }
   ],
   "source": [
    "intertia_scores2=[]\n",
    "for i in range(1,11):\n",
    "    kmeans2=KMeans(n_clusters=i)\n",
    "    kmeans2.fit(df[['Annual Income (k$)', 'Spending Score (1-100)']])\n",
    "    intertia_scores2.append(kmeans2.inertia_)\n",
    "plt.plot(range(1,11),intertia_scores)"
   ]
  },
  {
   "cell_type": "code",
   "execution_count": 60,
   "id": "689d227a",
   "metadata": {},
   "outputs": [],
   "source": [
    "centers = pd.DataFrame(clustering2.cluster_centers_)\n",
    "centers.columns = ['x','y']"
   ]
  },
  {
   "cell_type": "code",
   "execution_count": 79,
   "id": "f40c8c0c",
   "metadata": {},
   "outputs": [
    {
     "data": {
      "image/png": "[encoded data removed]",
      "text/plain": [
       "<Figure size 720x576 with 1 Axes>"
      ]
     },
     "metadata": {
      "needs_background": "light"
     },
     "output_type": "display_data"
    }
   ],
   "source": [
    "plt.figure(figsize=(10,8))\n",
    "plt.scatter(x=centers['x'],y=centers['y'],s=100,c='black',marker='*')\n",
    "sns.scatterplot(data=df, x = 'Annual Income (k$)', y ='Spending Score (1-100)',hue='Spending and Income Cluster',palette='tab10')\n",
    "plt.savefig('clustering_bivariate.png')"
   ]
  },
  {
   "cell_type": "code",
   "execution_count": 62,
   "id": "3b62db6e",
   "metadata": {},
   "outputs": [
    {
     "data": {
      "text/html": [
       "<div>\n",
       "<style scoped>\n",
       "    .dataframe tbody tr th:only-of-type {\n",
       "        vertical-align: middle;\n",
       "    }\n",
       "\n",
       "    .dataframe tbody tr th {\n",
       "        vertical-align: top;\n",
       "    }\n",
       "\n",
       "    .dataframe thead th {\n",
       "        text-align: right;\n",
       "    }\n",
       "</style>\n",
       "<table border=\"1\" class=\"dataframe\">\n",
       "  <thead>\n",
       "    <tr style=\"text-align: right;\">\n",
       "      <th>Gender</th>\n",
       "      <th>Female</th>\n",
       "      <th>Male</th>\n",
       "    </tr>\n",
       "    <tr>\n",
       "      <th>Spending and Income Cluster</th>\n",
       "      <th></th>\n",
       "      <th></th>\n",
       "    </tr>\n",
       "  </thead>\n",
       "  <tbody>\n",
       "    <tr>\n",
       "      <th>0</th>\n",
       "      <td>0.592593</td>\n",
       "      <td>0.407407</td>\n",
       "    </tr>\n",
       "    <tr>\n",
       "      <th>1</th>\n",
       "      <td>0.590909</td>\n",
       "      <td>0.409091</td>\n",
       "    </tr>\n",
       "    <tr>\n",
       "      <th>2</th>\n",
       "      <td>0.538462</td>\n",
       "      <td>0.461538</td>\n",
       "    </tr>\n",
       "    <tr>\n",
       "      <th>3</th>\n",
       "      <td>0.457143</td>\n",
       "      <td>0.542857</td>\n",
       "    </tr>\n",
       "    <tr>\n",
       "      <th>4</th>\n",
       "      <td>0.608696</td>\n",
       "      <td>0.391304</td>\n",
       "    </tr>\n",
       "  </tbody>\n",
       "</table>\n",
       "</div>"
      ],
      "text/plain": [
       "Gender                         Female      Male\n",
       "Spending and Income Cluster                    \n",
       "0                            0.592593  0.407407\n",
       "1                            0.590909  0.409091\n",
       "2                            0.538462  0.461538\n",
       "3                            0.457143  0.542857\n",
       "4                            0.608696  0.391304"
      ]
     },
     "execution_count": 62,
     "metadata": {},
     "output_type": "execute_result"
    }
   ],
   "source": [
    "pd.crosstab(df['Spending and Income Cluster'],df['Gender'],normalize='index')"
   ]
  },
  {
   "cell_type": "code",
   "execution_count": 63,
   "id": "cd02a2c5",
   "metadata": {},
   "outputs": [
    {
     "data": {
      "text/html": [
       "<div>\n",
       "<style scoped>\n",
       "    .dataframe tbody tr th:only-of-type {\n",
       "        vertical-align: middle;\n",
       "    }\n",
       "\n",
       "    .dataframe tbody tr th {\n",
       "        vertical-align: top;\n",
       "    }\n",
       "\n",
       "    .dataframe thead th {\n",
       "        text-align: right;\n",
       "    }\n",
       "</style>\n",
       "<table border=\"1\" class=\"dataframe\">\n",
       "  <thead>\n",
       "    <tr style=\"text-align: right;\">\n",
       "      <th></th>\n",
       "      <th>Age</th>\n",
       "      <th>Annual Income (k$)</th>\n",
       "      <th>Spending Score (1-100)</th>\n",
       "    </tr>\n",
       "    <tr>\n",
       "      <th>Spending and Income Cluster</th>\n",
       "      <th></th>\n",
       "      <th></th>\n",
       "      <th></th>\n",
       "    </tr>\n",
       "  </thead>\n",
       "  <tbody>\n",
       "    <tr>\n",
       "      <th>0</th>\n",
       "      <td>42.716049</td>\n",
       "      <td>55.296296</td>\n",
       "      <td>49.518519</td>\n",
       "    </tr>\n",
       "    <tr>\n",
       "      <th>1</th>\n",
       "      <td>25.272727</td>\n",
       "      <td>25.727273</td>\n",
       "      <td>79.363636</td>\n",
       "    </tr>\n",
       "    <tr>\n",
       "      <th>2</th>\n",
       "      <td>32.692308</td>\n",
       "      <td>86.538462</td>\n",
       "      <td>82.128205</td>\n",
       "    </tr>\n",
       "    <tr>\n",
       "      <th>3</th>\n",
       "      <td>41.114286</td>\n",
       "      <td>88.200000</td>\n",
       "      <td>17.114286</td>\n",
       "    </tr>\n",
       "    <tr>\n",
       "      <th>4</th>\n",
       "      <td>45.217391</td>\n",
       "      <td>26.304348</td>\n",
       "      <td>20.913043</td>\n",
       "    </tr>\n",
       "  </tbody>\n",
       "</table>\n",
       "</div>"
      ],
      "text/plain": [
       "                                   Age  Annual Income (k$)  \\\n",
       "Spending and Income Cluster                                  \n",
       "0                            42.716049           55.296296   \n",
       "1                            25.272727           25.727273   \n",
       "2                            32.692308           86.538462   \n",
       "3                            41.114286           88.200000   \n",
       "4                            45.217391           26.304348   \n",
       "\n",
       "                             Spending Score (1-100)  \n",
       "Spending and Income Cluster                          \n",
       "0                                         49.518519  \n",
       "1                                         79.363636  \n",
       "2                                         82.128205  \n",
       "3                                         17.114286  \n",
       "4                                         20.913043  "
      ]
     },
     "execution_count": 63,
     "metadata": {},
     "output_type": "execute_result"
    }
   ],
   "source": [
    "df.groupby('Spending and Income Cluster')['Age', 'Annual Income (k$)', 'Spending Score (1-100)'].mean()"
   ]
  },
  {
   "cell_type": "code",
   "execution_count": 64,
   "id": "7a4360a4",
   "metadata": {},
   "outputs": [],
   "source": [
    "#multivarient clustering\n",
    "from sklearn.preprocessing import StandardScaler"
   ]
  },
  {
   "cell_type": "code",
   "execution_count": 65,
   "id": "0db7afa9",
   "metadata": {},
   "outputs": [],
   "source": [
    "scale = StandardScaler()"
   ]
  },
  {
   "cell_type": "code",
   "execution_count": 66,
   "id": "4d2ee8ad",
   "metadata": {},
   "outputs": [
    {
     "data": {
      "text/html": [
       "<div>\n",
       "<style scoped>\n",
       "    .dataframe tbody tr th:only-of-type {\n",
       "        vertical-align: middle;\n",
       "    }\n",
       "\n",
       "    .dataframe tbody tr th {\n",
       "        vertical-align: top;\n",
       "    }\n",
       "\n",
       "    .dataframe thead th {\n",
       "        text-align: right;\n",
       "    }\n",
       "</style>\n",
       "<table border=\"1\" class=\"dataframe\">\n",
       "  <thead>\n",
       "    <tr style=\"text-align: right;\">\n",
       "      <th></th>\n",
       "      <th>Gender</th>\n",
       "      <th>Age</th>\n",
       "      <th>Annual Income (k$)</th>\n",
       "      <th>Spending Score (1-100)</th>\n",
       "      <th>Income Cluster</th>\n",
       "      <th>Spending and Income Cluster</th>\n",
       "    </tr>\n",
       "  </thead>\n",
       "  <tbody>\n",
       "    <tr>\n",
       "      <th>0</th>\n",
       "      <td>Male</td>\n",
       "      <td>19</td>\n",
       "      <td>15</td>\n",
       "      <td>39</td>\n",
       "      <td>2</td>\n",
       "      <td>4</td>\n",
       "    </tr>\n",
       "    <tr>\n",
       "      <th>1</th>\n",
       "      <td>Male</td>\n",
       "      <td>21</td>\n",
       "      <td>15</td>\n",
       "      <td>81</td>\n",
       "      <td>2</td>\n",
       "      <td>1</td>\n",
       "    </tr>\n",
       "    <tr>\n",
       "      <th>2</th>\n",
       "      <td>Female</td>\n",
       "      <td>20</td>\n",
       "      <td>16</td>\n",
       "      <td>6</td>\n",
       "      <td>2</td>\n",
       "      <td>4</td>\n",
       "    </tr>\n",
       "    <tr>\n",
       "      <th>3</th>\n",
       "      <td>Female</td>\n",
       "      <td>23</td>\n",
       "      <td>16</td>\n",
       "      <td>77</td>\n",
       "      <td>2</td>\n",
       "      <td>1</td>\n",
       "    </tr>\n",
       "    <tr>\n",
       "      <th>4</th>\n",
       "      <td>Female</td>\n",
       "      <td>31</td>\n",
       "      <td>17</td>\n",
       "      <td>40</td>\n",
       "      <td>2</td>\n",
       "      <td>4</td>\n",
       "    </tr>\n",
       "  </tbody>\n",
       "</table>\n",
       "</div>"
      ],
      "text/plain": [
       "   Gender  Age  Annual Income (k$)  Spending Score (1-100)  Income Cluster  \\\n",
       "0    Male   19                  15                      39               2   \n",
       "1    Male   21                  15                      81               2   \n",
       "2  Female   20                  16                       6               2   \n",
       "3  Female   23                  16                      77               2   \n",
       "4  Female   31                  17                      40               2   \n",
       "\n",
       "   Spending and Income Cluster  \n",
       "0                            4  \n",
       "1                            1  \n",
       "2                            4  \n",
       "3                            1  \n",
       "4                            4  "
      ]
     },
     "execution_count": 66,
     "metadata": {},
     "output_type": "execute_result"
    }
   ],
   "source": [
    "df.head()"
   ]
  },
  {
   "cell_type": "code",
   "execution_count": 68,
   "id": "52bd24cf",
   "metadata": {},
   "outputs": [
    {
     "data": {
      "text/html": [
       "<div>\n",
       "<style scoped>\n",
       "    .dataframe tbody tr th:only-of-type {\n",
       "        vertical-align: middle;\n",
       "    }\n",
       "\n",
       "    .dataframe tbody tr th {\n",
       "        vertical-align: top;\n",
       "    }\n",
       "\n",
       "    .dataframe thead th {\n",
       "        text-align: right;\n",
       "    }\n",
       "</style>\n",
       "<table border=\"1\" class=\"dataframe\">\n",
       "  <thead>\n",
       "    <tr style=\"text-align: right;\">\n",
       "      <th></th>\n",
       "      <th>Age</th>\n",
       "      <th>Annual Income (k$)</th>\n",
       "      <th>Spending Score (1-100)</th>\n",
       "      <th>Income Cluster</th>\n",
       "      <th>Spending and Income Cluster</th>\n",
       "      <th>Gender_Male</th>\n",
       "    </tr>\n",
       "  </thead>\n",
       "  <tbody>\n",
       "    <tr>\n",
       "      <th>0</th>\n",
       "      <td>19</td>\n",
       "      <td>15</td>\n",
       "      <td>39</td>\n",
       "      <td>2</td>\n",
       "      <td>4</td>\n",
       "      <td>1</td>\n",
       "    </tr>\n",
       "    <tr>\n",
       "      <th>1</th>\n",
       "      <td>21</td>\n",
       "      <td>15</td>\n",
       "      <td>81</td>\n",
       "      <td>2</td>\n",
       "      <td>1</td>\n",
       "      <td>1</td>\n",
       "    </tr>\n",
       "    <tr>\n",
       "      <th>2</th>\n",
       "      <td>20</td>\n",
       "      <td>16</td>\n",
       "      <td>6</td>\n",
       "      <td>2</td>\n",
       "      <td>4</td>\n",
       "      <td>0</td>\n",
       "    </tr>\n",
       "    <tr>\n",
       "      <th>3</th>\n",
       "      <td>23</td>\n",
       "      <td>16</td>\n",
       "      <td>77</td>\n",
       "      <td>2</td>\n",
       "      <td>1</td>\n",
       "      <td>0</td>\n",
       "    </tr>\n",
       "    <tr>\n",
       "      <th>4</th>\n",
       "      <td>31</td>\n",
       "      <td>17</td>\n",
       "      <td>40</td>\n",
       "      <td>2</td>\n",
       "      <td>4</td>\n",
       "      <td>0</td>\n",
       "    </tr>\n",
       "  </tbody>\n",
       "</table>\n",
       "</div>"
      ],
      "text/plain": [
       "   Age  Annual Income (k$)  Spending Score (1-100)  Income Cluster  \\\n",
       "0   19                  15                      39               2   \n",
       "1   21                  15                      81               2   \n",
       "2   20                  16                       6               2   \n",
       "3   23                  16                      77               2   \n",
       "4   31                  17                      40               2   \n",
       "\n",
       "   Spending and Income Cluster  Gender_Male  \n",
       "0                            4            1  \n",
       "1                            1            1  \n",
       "2                            4            0  \n",
       "3                            1            0  \n",
       "4                            4            0  "
      ]
     },
     "execution_count": 68,
     "metadata": {},
     "output_type": "execute_result"
    }
   ],
   "source": [
    "dff = pd.get_dummies(df,drop_first=True)\n",
    "dff.head()"
   ]
  },
  {
   "cell_type": "code",
   "execution_count": 69,
   "id": "3cf50c3a",
   "metadata": {},
   "outputs": [
    {
     "data": {
      "text/plain": [
       "Index(['Age', 'Annual Income (k$)', 'Spending Score (1-100)', 'Income Cluster',\n",
       "       'Spending and Income Cluster', 'Gender_Male'],\n",
       "      dtype='object')"
      ]
     },
     "execution_count": 69,
     "metadata": {},
     "output_type": "execute_result"
    }
   ],
   "source": [
    "dff.columns"
   ]
  },
  {
   "cell_type": "code",
   "execution_count": 70,
   "id": "d0cc6349",
   "metadata": {},
   "outputs": [
    {
     "data": {
      "text/html": [
       "<div>\n",
       "<style scoped>\n",
       "    .dataframe tbody tr th:only-of-type {\n",
       "        vertical-align: middle;\n",
       "    }\n",
       "\n",
       "    .dataframe tbody tr th {\n",
       "        vertical-align: top;\n",
       "    }\n",
       "\n",
       "    .dataframe thead th {\n",
       "        text-align: right;\n",
       "    }\n",
       "</style>\n",
       "<table border=\"1\" class=\"dataframe\">\n",
       "  <thead>\n",
       "    <tr style=\"text-align: right;\">\n",
       "      <th></th>\n",
       "      <th>Age</th>\n",
       "      <th>Annual Income (k$)</th>\n",
       "      <th>Spending Score (1-100)</th>\n",
       "      <th>Gender_Male</th>\n",
       "    </tr>\n",
       "  </thead>\n",
       "  <tbody>\n",
       "    <tr>\n",
       "      <th>0</th>\n",
       "      <td>19</td>\n",
       "      <td>15</td>\n",
       "      <td>39</td>\n",
       "      <td>1</td>\n",
       "    </tr>\n",
       "    <tr>\n",
       "      <th>1</th>\n",
       "      <td>21</td>\n",
       "      <td>15</td>\n",
       "      <td>81</td>\n",
       "      <td>1</td>\n",
       "    </tr>\n",
       "    <tr>\n",
       "      <th>2</th>\n",
       "      <td>20</td>\n",
       "      <td>16</td>\n",
       "      <td>6</td>\n",
       "      <td>0</td>\n",
       "    </tr>\n",
       "    <tr>\n",
       "      <th>3</th>\n",
       "      <td>23</td>\n",
       "      <td>16</td>\n",
       "      <td>77</td>\n",
       "      <td>0</td>\n",
       "    </tr>\n",
       "    <tr>\n",
       "      <th>4</th>\n",
       "      <td>31</td>\n",
       "      <td>17</td>\n",
       "      <td>40</td>\n",
       "      <td>0</td>\n",
       "    </tr>\n",
       "  </tbody>\n",
       "</table>\n",
       "</div>"
      ],
      "text/plain": [
       "   Age  Annual Income (k$)  Spending Score (1-100)  Gender_Male\n",
       "0   19                  15                      39            1\n",
       "1   21                  15                      81            1\n",
       "2   20                  16                       6            0\n",
       "3   23                  16                      77            0\n",
       "4   31                  17                      40            0"
      ]
     },
     "execution_count": 70,
     "metadata": {},
     "output_type": "execute_result"
    }
   ],
   "source": [
    "dff = dff[['Age', 'Annual Income (k$)', 'Spending Score (1-100)', 'Gender_Male']]\n",
    "dff.head()"
   ]
  },
  {
   "cell_type": "code",
   "execution_count": 71,
   "id": "064df783",
   "metadata": {},
   "outputs": [],
   "source": [
    "dff = scale.fit_transform(dff)"
   ]
  },
  {
   "cell_type": "code",
   "execution_count": 72,
   "id": "5de9a1f4",
   "metadata": {},
   "outputs": [
    {
     "data": {
      "text/plain": [
       "array([[-1.42456879, -1.73899919, -0.43480148,  1.12815215],\n",
       "       [-1.28103541, -1.73899919,  1.19570407,  1.12815215],\n",
       "       [-1.3528021 , -1.70082976, -1.71591298, -0.88640526],\n",
       "       [-1.13750203, -1.70082976,  1.04041783, -0.88640526],\n",
       "       [-0.56336851, -1.66266033, -0.39597992, -0.88640526],\n",
       "       [-1.20926872, -1.66266033,  1.00159627, -0.88640526],\n",
       "       [-0.27630176, -1.62449091, -1.71591298, -0.88640526],\n",
       "       [-1.13750203, -1.62449091,  1.70038436, -0.88640526],\n",
       "       [ 1.80493225, -1.58632148, -1.83237767,  1.12815215],\n",
       "       [-0.6351352 , -1.58632148,  0.84631002, -0.88640526],\n",
       "       [ 2.02023231, -1.58632148, -1.4053405 ,  1.12815215],\n",
       "       [-0.27630176, -1.58632148,  1.89449216, -0.88640526],\n",
       "       [ 1.37433211, -1.54815205, -1.36651894, -0.88640526],\n",
       "       [-1.06573534, -1.54815205,  1.04041783, -0.88640526],\n",
       "       [-0.13276838, -1.54815205, -1.44416206,  1.12815215],\n",
       "       [-1.20926872, -1.54815205,  1.11806095,  1.12815215],\n",
       "       [-0.27630176, -1.50998262, -0.59008772, -0.88640526],\n",
       "       [-1.3528021 , -1.50998262,  0.61338066,  1.12815215],\n",
       "       [ 0.94373197, -1.43364376, -0.82301709,  1.12815215],\n",
       "       [-0.27630176, -1.43364376,  1.8556706 , -0.88640526],\n",
       "       [-0.27630176, -1.39547433, -0.59008772,  1.12815215],\n",
       "       [-0.99396865, -1.39547433,  0.88513158,  1.12815215],\n",
       "       [ 0.51313183, -1.3573049 , -1.75473454, -0.88640526],\n",
       "       [-0.56336851, -1.3573049 ,  0.88513158,  1.12815215],\n",
       "       [ 1.08726535, -1.24279661, -1.4053405 , -0.88640526],\n",
       "       [-0.70690189, -1.24279661,  1.23452563,  1.12815215],\n",
       "       [ 0.44136514, -1.24279661, -0.7065524 , -0.88640526],\n",
       "       [-0.27630176, -1.24279661,  0.41927286,  1.12815215],\n",
       "       [ 0.08253169, -1.20462718, -0.74537397, -0.88640526],\n",
       "       [-1.13750203, -1.20462718,  1.42863343, -0.88640526],\n",
       "       [ 1.51786549, -1.16645776, -1.7935561 ,  1.12815215],\n",
       "       [-1.28103541, -1.16645776,  0.88513158, -0.88640526],\n",
       "       [ 1.01549866, -1.05194947, -1.7935561 ,  1.12815215],\n",
       "       [-1.49633548, -1.05194947,  1.62274124,  1.12815215],\n",
       "       [ 0.7284319 , -1.05194947, -1.4053405 , -0.88640526],\n",
       "       [-1.28103541, -1.05194947,  1.19570407, -0.88640526],\n",
       "       [ 0.22606507, -1.01378004, -1.28887582, -0.88640526],\n",
       "       [-0.6351352 , -1.01378004,  0.88513158, -0.88640526],\n",
       "       [-0.20453507, -0.89927175, -0.93948177, -0.88640526],\n",
       "       [-1.3528021 , -0.89927175,  0.96277471, -0.88640526],\n",
       "       [ 1.87669894, -0.86110232, -0.59008772, -0.88640526],\n",
       "       [-1.06573534, -0.86110232,  1.62274124,  1.12815215],\n",
       "       [ 0.65666521, -0.82293289, -0.55126616,  1.12815215],\n",
       "       [-0.56336851, -0.82293289,  0.41927286, -0.88640526],\n",
       "       [ 0.7284319 , -0.82293289, -0.86183865, -0.88640526],\n",
       "       [-1.06573534, -0.82293289,  0.5745591 , -0.88640526],\n",
       "       [ 0.80019859, -0.78476346,  0.18634349, -0.88640526],\n",
       "       [-0.85043527, -0.78476346, -0.12422899, -0.88640526],\n",
       "       [-0.70690189, -0.78476346, -0.3183368 , -0.88640526],\n",
       "       [-0.56336851, -0.78476346, -0.3183368 , -0.88640526],\n",
       "       [ 0.7284319 , -0.70842461,  0.06987881, -0.88640526],\n",
       "       [-0.41983513, -0.70842461,  0.38045129,  1.12815215],\n",
       "       [-0.56336851, -0.67025518,  0.14752193, -0.88640526],\n",
       "       [ 1.4460988 , -0.67025518,  0.38045129,  1.12815215],\n",
       "       [ 0.80019859, -0.67025518, -0.20187212, -0.88640526],\n",
       "       [ 0.58489852, -0.67025518, -0.35715836,  1.12815215],\n",
       "       [ 0.87196528, -0.63208575, -0.00776431, -0.88640526],\n",
       "       [ 2.16376569, -0.63208575, -0.16305055,  1.12815215],\n",
       "       [-0.85043527, -0.55574689,  0.03105725, -0.88640526],\n",
       "       [ 1.01549866, -0.55574689, -0.16305055,  1.12815215],\n",
       "       [ 2.23553238, -0.55574689,  0.22516505,  1.12815215],\n",
       "       [-1.42456879, -0.55574689,  0.18634349,  1.12815215],\n",
       "       [ 2.02023231, -0.51757746,  0.06987881, -0.88640526],\n",
       "       [ 1.08726535, -0.51757746,  0.34162973, -0.88640526],\n",
       "       [ 1.73316556, -0.47940803,  0.03105725,  1.12815215],\n",
       "       [-1.49633548, -0.47940803,  0.34162973,  1.12815215],\n",
       "       [ 0.29783176, -0.47940803, -0.00776431, -0.88640526],\n",
       "       [ 2.091999  , -0.47940803, -0.08540743, -0.88640526],\n",
       "       [-1.42456879, -0.47940803,  0.34162973,  1.12815215],\n",
       "       [-0.49160182, -0.47940803, -0.12422899, -0.88640526],\n",
       "       [ 2.23553238, -0.4412386 ,  0.18634349,  1.12815215],\n",
       "       [ 0.58489852, -0.4412386 , -0.3183368 , -0.88640526],\n",
       "       [ 1.51786549, -0.40306917, -0.04658587, -0.88640526],\n",
       "       [ 1.51786549, -0.40306917,  0.22516505, -0.88640526],\n",
       "       [ 1.4460988 , -0.25039146, -0.12422899,  1.12815215],\n",
       "       [-0.92220196, -0.25039146,  0.14752193,  1.12815215],\n",
       "       [ 0.44136514, -0.25039146,  0.10870037, -0.88640526],\n",
       "       [ 0.08253169, -0.25039146, -0.08540743,  1.12815215],\n",
       "       [-1.13750203, -0.25039146,  0.06987881, -0.88640526],\n",
       "       [ 0.7284319 , -0.25039146, -0.3183368 , -0.88640526],\n",
       "       [ 1.30256542, -0.25039146,  0.03105725,  1.12815215],\n",
       "       [-0.06100169, -0.25039146,  0.18634349,  1.12815215],\n",
       "       [ 2.02023231, -0.25039146, -0.35715836,  1.12815215],\n",
       "       [ 0.51313183, -0.25039146, -0.24069368, -0.88640526],\n",
       "       [-1.28103541, -0.25039146,  0.26398661, -0.88640526],\n",
       "       [ 0.65666521, -0.25039146, -0.16305055,  1.12815215],\n",
       "       [ 1.15903204, -0.13588317,  0.30280817, -0.88640526],\n",
       "       [-1.20926872, -0.13588317,  0.18634349, -0.88640526],\n",
       "       [-0.34806844, -0.09771374,  0.38045129, -0.88640526],\n",
       "       [ 0.80019859, -0.09771374, -0.16305055, -0.88640526],\n",
       "       [ 2.091999  , -0.05954431,  0.18634349, -0.88640526],\n",
       "       [-1.49633548, -0.05954431, -0.35715836,  1.12815215],\n",
       "       [ 0.65666521, -0.02137488, -0.04658587,  1.12815215],\n",
       "       [ 0.08253169, -0.02137488, -0.39597992, -0.88640526],\n",
       "       [-0.49160182, -0.02137488, -0.3183368 , -0.88640526],\n",
       "       [-1.06573534, -0.02137488,  0.06987881,  1.12815215],\n",
       "       [ 0.58489852, -0.02137488, -0.12422899, -0.88640526],\n",
       "       [-0.85043527, -0.02137488, -0.00776431, -0.88640526],\n",
       "       [ 0.65666521,  0.01679455, -0.3183368 ,  1.12815215],\n",
       "       [-1.3528021 ,  0.01679455, -0.04658587,  1.12815215],\n",
       "       [-1.13750203,  0.05496398, -0.35715836, -0.88640526],\n",
       "       [ 0.7284319 ,  0.05496398, -0.08540743, -0.88640526],\n",
       "       [ 2.02023231,  0.05496398,  0.34162973,  1.12815215],\n",
       "       [-0.92220196,  0.05496398,  0.18634349,  1.12815215],\n",
       "       [ 0.7284319 ,  0.05496398,  0.22516505,  1.12815215],\n",
       "       [-1.28103541,  0.05496398, -0.3183368 , -0.88640526],\n",
       "       [ 1.94846562,  0.09313341, -0.00776431, -0.88640526],\n",
       "       [ 1.08726535,  0.09313341, -0.16305055,  1.12815215],\n",
       "       [ 2.091999  ,  0.09313341, -0.27951524,  1.12815215],\n",
       "       [ 1.94846562,  0.09313341, -0.08540743,  1.12815215],\n",
       "       [ 1.87669894,  0.09313341,  0.06987881,  1.12815215],\n",
       "       [-1.42456879,  0.09313341,  0.14752193, -0.88640526],\n",
       "       [-0.06100169,  0.13130284, -0.3183368 , -0.88640526],\n",
       "       [-1.42456879,  0.13130284, -0.16305055,  1.12815215],\n",
       "       [-1.49633548,  0.16947227, -0.08540743, -0.88640526],\n",
       "       [-1.42456879,  0.16947227, -0.00776431, -0.88640526],\n",
       "       [ 1.73316556,  0.16947227, -0.27951524, -0.88640526],\n",
       "       [ 0.7284319 ,  0.16947227,  0.34162973, -0.88640526],\n",
       "       [ 0.87196528,  0.24581112, -0.27951524, -0.88640526],\n",
       "       [ 0.80019859,  0.24581112,  0.26398661, -0.88640526],\n",
       "       [-0.85043527,  0.24581112,  0.22516505,  1.12815215],\n",
       "       [-0.06100169,  0.24581112, -0.39597992, -0.88640526],\n",
       "       [ 0.08253169,  0.32214998,  0.30280817, -0.88640526],\n",
       "       [ 0.010765  ,  0.32214998,  1.58391968,  1.12815215],\n",
       "       [-1.13750203,  0.36031941, -0.82301709, -0.88640526],\n",
       "       [-0.56336851,  0.36031941,  1.04041783, -0.88640526],\n",
       "       [ 0.29783176,  0.39848884, -0.59008772,  1.12815215],\n",
       "       [ 0.08253169,  0.39848884,  1.73920592,  1.12815215],\n",
       "       [ 1.4460988 ,  0.39848884, -1.52180518,  1.12815215],\n",
       "       [-0.06100169,  0.39848884,  0.96277471,  1.12815215],\n",
       "       [ 0.58489852,  0.39848884, -1.5994483 ,  1.12815215],\n",
       "       [ 0.010765  ,  0.39848884,  0.96277471,  1.12815215],\n",
       "       [-0.99396865,  0.43665827, -0.62890928, -0.88640526],\n",
       "       [-0.56336851,  0.43665827,  0.80748846, -0.88640526],\n",
       "       [-1.3528021 ,  0.4748277 , -1.75473454,  1.12815215],\n",
       "       [-0.70690189,  0.4748277 ,  1.46745499, -0.88640526],\n",
       "       [ 0.36959845,  0.4748277 , -1.67709142, -0.88640526],\n",
       "       [-0.49160182,  0.4748277 ,  0.88513158,  1.12815215],\n",
       "       [-1.42456879,  0.51299713, -1.56062674,  1.12815215],\n",
       "       [-0.27630176,  0.51299713,  0.84631002, -0.88640526],\n",
       "       [ 1.30256542,  0.55116656, -1.75473454, -0.88640526],\n",
       "       [-0.49160182,  0.55116656,  1.6615628 ,  1.12815215],\n",
       "       [-0.77866858,  0.58933599, -0.39597992, -0.88640526],\n",
       "       [-0.49160182,  0.58933599,  1.42863343, -0.88640526],\n",
       "       [-0.99396865,  0.62750542, -1.48298362,  1.12815215],\n",
       "       [-0.77866858,  0.62750542,  1.81684904,  1.12815215],\n",
       "       [ 0.65666521,  0.62750542, -0.55126616,  1.12815215],\n",
       "       [-0.49160182,  0.62750542,  0.92395314, -0.88640526],\n",
       "       [-0.34806844,  0.66567484, -1.09476801, -0.88640526],\n",
       "       [-0.34806844,  0.66567484,  1.54509812,  1.12815215],\n",
       "       [ 0.29783176,  0.66567484, -1.28887582,  1.12815215],\n",
       "       [ 0.010765  ,  0.66567484,  1.46745499,  1.12815215],\n",
       "       [ 0.36959845,  0.66567484, -1.17241113, -0.88640526],\n",
       "       [-0.06100169,  0.66567484,  1.00159627, -0.88640526],\n",
       "       [ 0.58489852,  0.66567484, -1.32769738, -0.88640526],\n",
       "       [-0.85043527,  0.66567484,  1.50627656, -0.88640526],\n",
       "       [-0.13276838,  0.66567484, -1.91002079,  1.12815215],\n",
       "       [-0.6351352 ,  0.66567484,  1.07923939, -0.88640526],\n",
       "       [-0.34806844,  0.66567484, -1.91002079,  1.12815215],\n",
       "       [-0.6351352 ,  0.66567484,  0.88513158, -0.88640526],\n",
       "       [ 1.23079873,  0.70384427, -0.59008772, -0.88640526],\n",
       "       [-0.70690189,  0.70384427,  1.27334719, -0.88640526],\n",
       "       [-1.42456879,  0.78018313, -1.75473454,  1.12815215],\n",
       "       [-0.56336851,  0.78018313,  1.6615628 , -0.88640526],\n",
       "       [ 0.80019859,  0.93286085, -0.93948177,  1.12815215],\n",
       "       [-0.20453507,  0.93286085,  0.96277471, -0.88640526],\n",
       "       [ 0.22606507,  0.97103028, -1.17241113,  1.12815215],\n",
       "       [-0.41983513,  0.97103028,  1.73920592, -0.88640526],\n",
       "       [-0.20453507,  1.00919971, -0.90066021, -0.88640526],\n",
       "       [-0.49160182,  1.00919971,  0.49691598,  1.12815215],\n",
       "       [ 0.08253169,  1.00919971, -1.44416206,  1.12815215],\n",
       "       [-0.77866858,  1.00919971,  0.96277471,  1.12815215],\n",
       "       [-0.20453507,  1.00919971, -1.56062674,  1.12815215],\n",
       "       [-0.20453507,  1.00919971,  1.62274124,  1.12815215],\n",
       "       [ 0.94373197,  1.04736914, -1.44416206, -0.88640526],\n",
       "       [-0.6351352 ,  1.04736914,  1.38981187, -0.88640526],\n",
       "       [ 1.37433211,  1.04736914, -1.36651894,  1.12815215],\n",
       "       [-0.85043527,  1.04736914,  0.72984534,  1.12815215],\n",
       "       [ 1.4460988 ,  1.23821628, -1.4053405 ,  1.12815215],\n",
       "       [-0.27630176,  1.23821628,  1.54509812,  1.12815215],\n",
       "       [-0.13276838,  1.390894  , -0.7065524 , -0.88640526],\n",
       "       [-0.49160182,  1.390894  ,  1.38981187, -0.88640526],\n",
       "       [ 0.51313183,  1.42906343, -1.36651894,  1.12815215],\n",
       "       [-0.70690189,  1.42906343,  1.46745499, -0.88640526],\n",
       "       [ 0.15429838,  1.46723286, -0.43480148, -0.88640526],\n",
       "       [-0.6351352 ,  1.46723286,  1.81684904,  1.12815215],\n",
       "       [ 1.08726535,  1.54357172, -1.01712489, -0.88640526],\n",
       "       [-0.77866858,  1.54357172,  0.69102378,  1.12815215],\n",
       "       [ 0.15429838,  1.61991057, -1.28887582, -0.88640526],\n",
       "       [-0.20453507,  1.61991057,  1.35099031, -0.88640526],\n",
       "       [-0.34806844,  1.61991057, -1.05594645, -0.88640526],\n",
       "       [-0.49160182,  1.61991057,  0.72984534, -0.88640526],\n",
       "       [-0.41983513,  2.00160487, -1.63826986,  1.12815215],\n",
       "       [-0.06100169,  2.00160487,  1.58391968, -0.88640526],\n",
       "       [ 0.58489852,  2.26879087, -1.32769738, -0.88640526],\n",
       "       [-0.27630176,  2.26879087,  1.11806095, -0.88640526],\n",
       "       [ 0.44136514,  2.49780745, -0.86183865, -0.88640526],\n",
       "       [-0.49160182,  2.49780745,  0.92395314,  1.12815215],\n",
       "       [-0.49160182,  2.91767117, -1.25005425,  1.12815215],\n",
       "       [-0.6351352 ,  2.91767117,  1.27334719,  1.12815215]])"
      ]
     },
     "execution_count": 72,
     "metadata": {},
     "output_type": "execute_result"
    }
   ],
   "source": [
    "dff"
   ]
  },
  {
   "cell_type": "code",
   "execution_count": 74,
   "id": "be9f36d9",
   "metadata": {},
   "outputs": [
    {
     "data": {
      "text/html": [
       "<div>\n",
       "<style scoped>\n",
       "    .dataframe tbody tr th:only-of-type {\n",
       "        vertical-align: middle;\n",
       "    }\n",
       "\n",
       "    .dataframe tbody tr th {\n",
       "        vertical-align: top;\n",
       "    }\n",
       "\n",
       "    .dataframe thead th {\n",
       "        text-align: right;\n",
       "    }\n",
       "</style>\n",
       "<table border=\"1\" class=\"dataframe\">\n",
       "  <thead>\n",
       "    <tr style=\"text-align: right;\">\n",
       "      <th></th>\n",
       "      <th>0</th>\n",
       "      <th>1</th>\n",
       "      <th>2</th>\n",
       "      <th>3</th>\n",
       "    </tr>\n",
       "  </thead>\n",
       "  <tbody>\n",
       "    <tr>\n",
       "      <th>0</th>\n",
       "      <td>-1.424569</td>\n",
       "      <td>-1.738999</td>\n",
       "      <td>-0.434801</td>\n",
       "      <td>1.128152</td>\n",
       "    </tr>\n",
       "    <tr>\n",
       "      <th>1</th>\n",
       "      <td>-1.281035</td>\n",
       "      <td>-1.738999</td>\n",
       "      <td>1.195704</td>\n",
       "      <td>1.128152</td>\n",
       "    </tr>\n",
       "    <tr>\n",
       "      <th>2</th>\n",
       "      <td>-1.352802</td>\n",
       "      <td>-1.700830</td>\n",
       "      <td>-1.715913</td>\n",
       "      <td>-0.886405</td>\n",
       "    </tr>\n",
       "    <tr>\n",
       "      <th>3</th>\n",
       "      <td>-1.137502</td>\n",
       "      <td>-1.700830</td>\n",
       "      <td>1.040418</td>\n",
       "      <td>-0.886405</td>\n",
       "    </tr>\n",
       "    <tr>\n",
       "      <th>4</th>\n",
       "      <td>-0.563369</td>\n",
       "      <td>-1.662660</td>\n",
       "      <td>-0.395980</td>\n",
       "      <td>-0.886405</td>\n",
       "    </tr>\n",
       "  </tbody>\n",
       "</table>\n",
       "</div>"
      ],
      "text/plain": [
       "          0         1         2         3\n",
       "0 -1.424569 -1.738999 -0.434801  1.128152\n",
       "1 -1.281035 -1.738999  1.195704  1.128152\n",
       "2 -1.352802 -1.700830 -1.715913 -0.886405\n",
       "3 -1.137502 -1.700830  1.040418 -0.886405\n",
       "4 -0.563369 -1.662660 -0.395980 -0.886405"
      ]
     },
     "execution_count": 74,
     "metadata": {},
     "output_type": "execute_result"
    }
   ],
   "source": [
    "dff = pd.DataFrame(scale.fit_transform(dff))\n",
    "dff.head()"
   ]
  },
  {
   "cell_type": "code",
   "execution_count": 76,
   "id": "d3b83244",
   "metadata": {},
   "outputs": [
    {
     "data": {
      "text/plain": [
       "[<matplotlib.lines.Line2D at 0x237d989ca60>]"
      ]
     },
     "execution_count": 76,
     "metadata": {},
     "output_type": "execute_result"
    },
    {
     "data": {
      "image/png": "[encoded data removed]",
      "text/plain": [
       "<Figure size 432x288 with 1 Axes>"
      ]
     },
     "metadata": {
      "needs_background": "light"
     },
     "output_type": "display_data"
    }
   ],
   "source": [
    "intertia_scores3=[]\n",
    "for i in range(1,11):\n",
    "    kmeans3=KMeans(n_clusters=i)\n",
    "    kmeans3.fit(dff)\n",
    "    intertia_scores3.append(kmeans3.inertia_)\n",
    "plt.plot(range(1,11),intertia_scores3)"
   ]
  },
  {
   "cell_type": "code",
   "execution_count": 77,
   "id": "0c73f55a",
   "metadata": {},
   "outputs": [
    {
     "data": {
      "text/html": [
       "<div>\n",
       "<style scoped>\n",
       "    .dataframe tbody tr th:only-of-type {\n",
       "        vertical-align: middle;\n",
       "    }\n",
       "\n",
       "    .dataframe tbody tr th {\n",
       "        vertical-align: top;\n",
       "    }\n",
       "\n",
       "    .dataframe thead th {\n",
       "        text-align: right;\n",
       "    }\n",
       "</style>\n",
       "<table border=\"1\" class=\"dataframe\">\n",
       "  <thead>\n",
       "    <tr style=\"text-align: right;\">\n",
       "      <th></th>\n",
       "      <th>Gender</th>\n",
       "      <th>Age</th>\n",
       "      <th>Annual Income (k$)</th>\n",
       "      <th>Spending Score (1-100)</th>\n",
       "      <th>Income Cluster</th>\n",
       "      <th>Spending and Income Cluster</th>\n",
       "    </tr>\n",
       "  </thead>\n",
       "  <tbody>\n",
       "    <tr>\n",
       "      <th>0</th>\n",
       "      <td>Male</td>\n",
       "      <td>19</td>\n",
       "      <td>15</td>\n",
       "      <td>39</td>\n",
       "      <td>2</td>\n",
       "      <td>4</td>\n",
       "    </tr>\n",
       "    <tr>\n",
       "      <th>1</th>\n",
       "      <td>Male</td>\n",
       "      <td>21</td>\n",
       "      <td>15</td>\n",
       "      <td>81</td>\n",
       "      <td>2</td>\n",
       "      <td>1</td>\n",
       "    </tr>\n",
       "    <tr>\n",
       "      <th>2</th>\n",
       "      <td>Female</td>\n",
       "      <td>20</td>\n",
       "      <td>16</td>\n",
       "      <td>6</td>\n",
       "      <td>2</td>\n",
       "      <td>4</td>\n",
       "    </tr>\n",
       "    <tr>\n",
       "      <th>3</th>\n",
       "      <td>Female</td>\n",
       "      <td>23</td>\n",
       "      <td>16</td>\n",
       "      <td>77</td>\n",
       "      <td>2</td>\n",
       "      <td>1</td>\n",
       "    </tr>\n",
       "    <tr>\n",
       "      <th>4</th>\n",
       "      <td>Female</td>\n",
       "      <td>31</td>\n",
       "      <td>17</td>\n",
       "      <td>40</td>\n",
       "      <td>2</td>\n",
       "      <td>4</td>\n",
       "    </tr>\n",
       "    <tr>\n",
       "      <th>...</th>\n",
       "      <td>...</td>\n",
       "      <td>...</td>\n",
       "      <td>...</td>\n",
       "      <td>...</td>\n",
       "      <td>...</td>\n",
       "      <td>...</td>\n",
       "    </tr>\n",
       "    <tr>\n",
       "      <th>195</th>\n",
       "      <td>Female</td>\n",
       "      <td>35</td>\n",
       "      <td>120</td>\n",
       "      <td>79</td>\n",
       "      <td>1</td>\n",
       "      <td>2</td>\n",
       "    </tr>\n",
       "    <tr>\n",
       "      <th>196</th>\n",
       "      <td>Female</td>\n",
       "      <td>45</td>\n",
       "      <td>126</td>\n",
       "      <td>28</td>\n",
       "      <td>1</td>\n",
       "      <td>3</td>\n",
       "    </tr>\n",
       "    <tr>\n",
       "      <th>197</th>\n",
       "      <td>Male</td>\n",
       "      <td>32</td>\n",
       "      <td>126</td>\n",
       "      <td>74</td>\n",
       "      <td>1</td>\n",
       "      <td>2</td>\n",
       "    </tr>\n",
       "    <tr>\n",
       "      <th>198</th>\n",
       "      <td>Male</td>\n",
       "      <td>32</td>\n",
       "      <td>137</td>\n",
       "      <td>18</td>\n",
       "      <td>1</td>\n",
       "      <td>3</td>\n",
       "    </tr>\n",
       "    <tr>\n",
       "      <th>199</th>\n",
       "      <td>Male</td>\n",
       "      <td>30</td>\n",
       "      <td>137</td>\n",
       "      <td>83</td>\n",
       "      <td>1</td>\n",
       "      <td>2</td>\n",
       "    </tr>\n",
       "  </tbody>\n",
       "</table>\n",
       "<p>200 rows × 6 columns</p>\n",
       "</div>"
      ],
      "text/plain": [
       "     Gender  Age  Annual Income (k$)  Spending Score (1-100)  Income Cluster  \\\n",
       "0      Male   19                  15                      39               2   \n",
       "1      Male   21                  15                      81               2   \n",
       "2    Female   20                  16                       6               2   \n",
       "3    Female   23                  16                      77               2   \n",
       "4    Female   31                  17                      40               2   \n",
       "..      ...  ...                 ...                     ...             ...   \n",
       "195  Female   35                 120                      79               1   \n",
       "196  Female   45                 126                      28               1   \n",
       "197    Male   32                 126                      74               1   \n",
       "198    Male   32                 137                      18               1   \n",
       "199    Male   30                 137                      83               1   \n",
       "\n",
       "     Spending and Income Cluster  \n",
       "0                              4  \n",
       "1                              1  \n",
       "2                              4  \n",
       "3                              1  \n",
       "4                              4  \n",
       "..                           ...  \n",
       "195                            2  \n",
       "196                            3  \n",
       "197                            2  \n",
       "198                            3  \n",
       "199                            2  \n",
       "\n",
       "[200 rows x 6 columns]"
      ]
     },
     "execution_count": 77,
     "metadata": {},
     "output_type": "execute_result"
    }
   ],
   "source": [
    "df"
   ]
  },
  {
   "cell_type": "code",
   "execution_count": 78,
   "id": "2a239833",
   "metadata": {},
   "outputs": [],
   "source": [
    "df.to_csv('Clustering.csv')"
   ]
  },
  {
   "cell_type": "code",
   "execution_count": null,
   "id": "8c1d6351",
   "metadata": {},
   "outputs": [],
   "source": []
  }
 ],
 "metadata": {
  "kernelspec": {
   "display_name": "Python 3 (ipykernel)",
   "language": "python",
   "name": "python3"
  },
  "language_info": {
   "codemirror_mode": {
    "name": "ipython",
    "version": 3
   },
   "file_extension": ".py",
   "mimetype": "text/x-python",
   "name": "python",
   "nbconvert_exporter": "python",
   "pygments_lexer": "ipython3",
   "version": "3.9.12"
  }
 },
 "nbformat": 4,
 "nbformat_minor": 5
}
